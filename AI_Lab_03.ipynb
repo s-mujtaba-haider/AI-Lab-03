{
  "nbformat": 4,
  "nbformat_minor": 0,
  "metadata": {
    "colab": {
      "provenance": []
    },
    "kernelspec": {
      "name": "python3",
      "display_name": "Python 3"
    },
    "language_info": {
      "name": "python"
    }
  },
  "cells": [
    {
      "cell_type": "code",
      "execution_count": null,
      "metadata": {
        "colab": {
          "base_uri": "https://localhost:8080/"
        },
        "id": "qExRBvo4zygC",
        "outputId": "91ae6388-0e04-4f63-be14-a88119846a49"
      },
      "outputs": [
        {
          "output_type": "stream",
          "name": "stdout",
          "text": [
            "Merged List :  [1, 2, 3, 4, 5, 6, 7, 8]\n"
          ]
        }
      ],
      "source": [
        "# Q - 1\n",
        "def Merge(l1, l2):\n",
        "    mergelist = []\n",
        "    i = 0\n",
        "    j = 0\n",
        "\n",
        "    while i < len(l1) and j < len(l2):\n",
        "        if l1[i] < l2[j]:\n",
        "            mergelist.append(l1[i])\n",
        "            i += 1\n",
        "        else:\n",
        "            mergelist.append(l2[j])\n",
        "            j += 1\n",
        "\n",
        "    while i < len(l1):\n",
        "        mergelist.append(l1[i])\n",
        "        i += 1\n",
        "\n",
        "    while j < len(l2):\n",
        "        mergelist.append(l2[j])\n",
        "        j += 1\n",
        "\n",
        "    return mergelist\n",
        "\n",
        "list1 = [1, 3, 5, 7]\n",
        "list2 = [2, 4, 6, 8]\n",
        "print(\"Merged List : \", Merge(list1, list2))"
      ]
    },
    {
      "cell_type": "code",
      "source": [
        "# Q - 2\n",
        "employees = ['Kelly', 'Emma', 'John']\n",
        "defaults = {\"designation\": 'Application Developer', \"salary\": 8000}\n",
        "\n",
        "print({employee: defaults.copy() for employee in employees})"
      ],
      "metadata": {
        "colab": {
          "base_uri": "https://localhost:8080/"
        },
        "id": "0_QYbDLv3Isy",
        "outputId": "bf9e1f78-c4bc-424d-c938-aa10ecc71fb9"
      },
      "execution_count": null,
      "outputs": [
        {
          "output_type": "stream",
          "name": "stdout",
          "text": [
            "{'Kelly': {'designation': 'Application Developer', 'salary': 8000}, 'Emma': {'designation': 'Application Developer', 'salary': 8000}, 'John': {'designation': 'Application Developer', 'salary': 8000}}\n"
          ]
        }
      ]
    },
    {
      "cell_type": "code",
      "source": [
        "# Q - 3\n",
        "dictionary = {\n",
        "    \"name\": \"Kelly\",\n",
        "    \"age\": 25,\n",
        "    \"salary\": 8000,\n",
        "    \"city\": \"New York\"\n",
        "}\n",
        "\n",
        "keyremove = [\"name\", \"salary\"]\n",
        "\n",
        "print({key: dictionary[key] for key in dictionary if key not in keyremove})"
      ],
      "metadata": {
        "colab": {
          "base_uri": "https://localhost:8080/"
        },
        "id": "XhmFOwOv3MMn",
        "outputId": "d73f4c1f-aee1-4ec6-d3b8-3c333e23d753"
      },
      "execution_count": null,
      "outputs": [
        {
          "output_type": "stream",
          "name": "stdout",
          "text": [
            "{'age': 25, 'city': 'New York'}\n"
          ]
        }
      ]
    },
    {
      "cell_type": "code",
      "source": [
        "# Q - 4\n",
        "X = {\"A\", 1, 2, 3, 4}\n",
        "Y = {3, 4, 5,\"A\", 6 , \"C\"}\n",
        "\n",
        "print(X ^ Y)"
      ],
      "metadata": {
        "colab": {
          "base_uri": "https://localhost:8080/"
        },
        "id": "Fs4zvs0V3V_W",
        "outputId": "9a05c492-bd32-4e5d-9b87-4d5b5689256a"
      },
      "execution_count": null,
      "outputs": [
        {
          "output_type": "stream",
          "name": "stdout",
          "text": [
            "{1, 2, 'C', 5, 6}\n"
          ]
        }
      ]
    },
    {
      "cell_type": "code",
      "source": [
        "# Q - 5\n",
        "def Divide(P, Q):\n",
        "    try:\n",
        "        result = P / Q\n",
        "        return result\n",
        "    except ZeroDivisionError:\n",
        "        print(\"Zero Division.\")\n",
        "        return 0\n",
        "    except TypeError:\n",
        "        print(\"Other than numbers.\")\n",
        "        return 0\n",
        "\n",
        "P = 10\n",
        "Q = 0\n",
        "\n",
        "print(\"Answer:\", Divide(P, Q))\n",
        "print()\n",
        "P = 20\n",
        "Q = 10\n",
        "\n",
        "print(\"Answer:\", Divide(P, Q))"
      ],
      "metadata": {
        "colab": {
          "base_uri": "https://localhost:8080/"
        },
        "id": "DJ3dozmD3Zku",
        "outputId": "a2a3ce97-cbea-4bc2-82e7-7b92ad59ef7d"
      },
      "execution_count": null,
      "outputs": [
        {
          "output_type": "stream",
          "name": "stdout",
          "text": [
            "Zero Division.\n",
            "Answer: 0\n",
            "\n",
            "Answer: 2.0\n"
          ]
        }
      ]
    }
  ]
}